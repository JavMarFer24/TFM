{
 "cells": [
  {
   "cell_type": "markdown",
   "id": "f05174f2",
   "metadata": {},
   "source": [
    "# DIARIO DE PROGRESO #"
   ]
  },
  {
   "cell_type": "markdown",
   "id": "ff8d8acd",
   "metadata": {},
   "source": [
    "### 27/06 Carmen ###\n",
    "\n",
    "Hola chicos! Ya he iniciado el proyecto :) Me pareció buena idea ir haciendo esta especie de diario para que, ya que somos muchos, podamos escribir el progreso que hemos hecho cada vez que hacemos un commit. Me parece más fácil que andar investigando el código o escribir por WhatsApp. Ya sé que da un poco de pereza y no sé qué tal funcionará pero vamos a intentarlo. Empiezo contandoos yo:\n",
    "\n",
    "De momento he empezado haciendo más o menos lo que tenía yo hecho en el trabajo, aunque solo con las convocatorias españolas, todavía no me puse con las europeas.\n",
    "\n",
    "He estado investigando un poco la documentación de la API, os la dejo por aquí: https://www.infosubvenciones.es/bdnstrans/doc/swagger y he visto que hay tres tipos de llamadas que son interesantes: a la lista general de convocatorias, a las convocatorias en específico y a los documentos. Creo que lo he dejado bien explicado en el notebook.\n",
    "\n",
    "En cuanto a posibles tareas por hacer:\n",
    "\n",
    "- Empezar a trabajar en la interfaz de usuario para hacer la búsqueda y consultar las convocatorias. El objetivo de esto es que sea mejor que la que ya existe en el SNPSAP (no es difícil). A mi en el futuro me gustaría llegar a algo más que una demo (me gustaría desplegarlo en una página web real) pero de momento podemos ir trabajando con Streamlit o Gradio. \n",
    "\n",
    "- Empezar a trabajar en la parte de NLP. Existen dos fases en mi opinión, una de la búsqueda principal (\"Hola, quiero buscar convocatorias relacionadas con ayuda a la vivienda\") y otra parte de RAG que sería a partir de los documentos de la convocatoria (\"Dime la lista de posibles beneficiarios según las bases de la convocatoria\"). La primera fase consistiría en pasar del lenguaje natural a una lista de parámetros para llamar a la API así que se podría ir haciendo y la segunda también, practicando con documentos ya descargados. Y luego ya sería juntarlo todo. \n",
    "\n",
    "- Limpiar el código, hacer un flujo que quede bonito, que tengan sentidos los documentos, etc. Es una tarea un poco más rollo pero igualmente importante. \n",
    "\n",
    "Creo que eso es todo, me parece que lo mejor es que cuando alguien se meta y progrese algo, lo documente e indique posibles tareas para que haga el siguiente, por lo menos al principio, luego ya podemos ir definiendo roles más claros. Y avisad por el grupo si alguien se pone para no estar trabajando en lo mismo!!!\n",
    "\n"
   ]
  }
 ],
 "metadata": {
  "language_info": {
   "name": "python"
  }
 },
 "nbformat": 4,
 "nbformat_minor": 5
}
