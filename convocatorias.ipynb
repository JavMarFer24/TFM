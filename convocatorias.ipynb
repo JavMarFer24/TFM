{
 "cells": [
  {
   "cell_type": "markdown",
   "id": "b1ec04e7",
   "metadata": {},
   "source": [
    "# Adquisición de convocatorias por APIs #\n",
    "\n",
    "Este notebook consiste en conectarse a las APIs de las bases de datos donde se encuentran las convocatorias españolas y europeas y adquirir los datos."
   ]
  },
  {
   "cell_type": "markdown",
   "id": "125a3691",
   "metadata": {},
   "source": [
    "## 1. Convocatorias españolas ##"
   ]
  },
  {
   "cell_type": "code",
   "execution_count": 46,
   "id": "2121d9b4",
   "metadata": {},
   "outputs": [
    {
     "name": "stdout",
     "output_type": "stream",
     "text": [
      "Collecting openpyxl\n",
      "  Using cached openpyxl-3.1.5-py2.py3-none-any.whl.metadata (2.5 kB)\n",
      "Collecting et-xmlfile (from openpyxl)\n",
      "  Using cached et_xmlfile-2.0.0-py3-none-any.whl.metadata (2.7 kB)\n",
      "Using cached openpyxl-3.1.5-py2.py3-none-any.whl (250 kB)\n",
      "Using cached et_xmlfile-2.0.0-py3-none-any.whl (18 kB)\n",
      "Installing collected packages: et-xmlfile, openpyxl\n",
      "\n",
      "   -------------------- ------------------- 1/2 [openpyxl]\n",
      "   -------------------- ------------------- 1/2 [openpyxl]\n",
      "   -------------------- ------------------- 1/2 [openpyxl]\n",
      "   -------------------- ------------------- 1/2 [openpyxl]\n",
      "   -------------------- ------------------- 1/2 [openpyxl]\n",
      "   ---------------------------------------- 2/2 [openpyxl]\n",
      "\n",
      "Successfully installed et-xmlfile-2.0.0 openpyxl-3.1.5\n",
      "Note: you may need to restart the kernel to use updated packages.\n"
     ]
    }
   ],
   "source": [
    "pip install openpyxl"
   ]
  },
  {
   "cell_type": "code",
   "execution_count": 47,
   "id": "6a2fb961",
   "metadata": {},
   "outputs": [],
   "source": [
    "# Importar librerías\n",
    "import requests\n",
    "import pandas as pd\n",
    "import datetime\n",
    "import time\n",
    "import openpyxl"
   ]
  },
  {
   "cell_type": "markdown",
   "id": "1e4fc288",
   "metadata": {},
   "source": [
    "### 1.1 Lista de convocatorias ###\n",
    "\n",
    "La primera llamada a la API se hace para obtener la  lista de todas las convocatorias. Estos son los \n",
    "parámtros que se pueden usar:"
   ]
  },
  {
   "cell_type": "code",
   "execution_count": null,
   "id": "bfcf4286",
   "metadata": {},
   "outputs": [],
   "source": [
    "posibles_params = {\n",
    "    \"page\": 0,  # Número de página (empieza en 0)\n",
    "    \"pageSize\": 50,  # Tamaño de página\n",
    "    \"order\": \"numeroConvocatoria\",  # Campo por el que ordenar\n",
    "    \"direccion\": \"asc\",  # Sentido de la ordenación: 'asc' o 'desc'\n",
    "    \"vpd\": \"GE\",  # Identificador del portal\n",
    "    \"descripcion\": \"Resolución\",  # Texto a buscar en el título o descripción\n",
    "    \"descripcionTipoBusqueda\": 0,  # 0: frase exacta, 1: todas las palabras, 2: alguna palabra\n",
    "    \"numeroConvocatoria\": \"376046\",  # Código BDNS a buscar\n",
    "    \"mrr\": False,  # Mecanismo de recuperación y resiliencia\n",
    "    \"fechaDesde\": \"18/12/2017\",  # Fecha de inicio (dd/mm/yyyy)\n",
    "    \"fechaHasta\": \"18/12/2017\",  # Fecha de fin (dd/mm/yyyy)\n",
    "    \"tipoAdministracion\": \"C\",  # 'C', 'A', 'L', 'O'\n",
    "    \"organos\": [\"713\", \"4730\"],  # Lista de identificadores de órganos administrativos\n",
    "    \"regiones\": [3, 50],  # Lista de identificadores de regiones\n",
    "    \"tiposBeneficiario\": [3],  # Lista de identificadores de tipos de beneficiarios\n",
    "    \"instrumentos\": [1],  # Lista de identificadores de instrumentos de ayuda\n",
    "    \"finalidad\": 11,  # Identificador de la finalidad de la política de gasto\n",
    "    \"ayudaEstado\": \"SA.45221\"  # Código de ayuda de estado\n",
    "}\n"
   ]
  },
  {
   "cell_type": "code",
   "execution_count": 41,
   "id": "18b9719f",
   "metadata": {},
   "outputs": [
    {
     "name": "stdout",
     "output_type": "stream",
     "text": [
      "✅ La API responde con JSON. Descargando datos paginados...\n",
      "📄 Cargando página 0...\n",
      "📄 Cargando página 1...\n",
      "📄 Cargando página 2...\n",
      "Columnas disponibles: ['id', 'mrr', 'numeroConvocatoria', 'descripcion', 'descripcionLeng', 'fechaRecepcion', 'nivel1', 'nivel2', 'nivel3', 'codigoInvente']\n"
     ]
    }
   ],
   "source": [
    "# Configuración de parámetros\n",
    "base_url = \"https://www.pap.hacienda.gob.es/bdnstrans/api/convocatorias/busqueda\"\n",
    "vpd = \"GE\"  # Identificador del portal, según la docu\n",
    "page_size = 25\n",
    "max_paginas = 3  # Puedes aumentar si quieres más resultados\n",
    "\n",
    "resultados = []\n",
    "\n",
    "\n",
    "# 2. Probar la API con parámetros y cabecera Accept: application/json\n",
    "params = {\n",
    "    \"vpd\": vpd,\n",
    "    \"page\": 0,\n",
    "    \"pageSize\": page_size\n",
    "}\n",
    "headers = {\"Accept\": \"application/json\"}\n",
    "\n",
    "\n",
    "# 3. Si la respuesta es JSON, continuar con la descarga paginada\n",
    "if \"application/json\" in r2.headers.get(\"Content-Type\", \"\"):\n",
    "    print(\"✅ La API responde con JSON. Descargando datos paginados...\")\n",
    "    for pagina in range(0, max_paginas):\n",
    "        print(f\"📄 Cargando página {pagina}...\")\n",
    "        params[\"page\"] = pagina\n",
    "        try:\n",
    "            response = requests.get(base_url, params=params, headers=headers)\n",
    "            response.raise_for_status()\n",
    "            data = response.json()\n",
    "            convocatorias = data.get(\"convocatorias\", data.get(\"content\", []))  # content es común en APIs paginadas\n",
    "            if not convocatorias:\n",
    "                print(\"✅ No hay más datos.\")\n",
    "                break\n",
    "            resultados.extend(convocatorias)\n",
    "            time.sleep(0.5)  # para evitar sobrecargar la API\n",
    "        except Exception as e:\n",
    "            print(f\"❌ Error en la página {pagina}: {e}\")\n",
    "            break\n",
    "    # Convertir a DataFrame y mostrar\n",
    "    df = pd.DataFrame(resultados)\n",
    "    print(\"Columnas disponibles:\", df.columns.tolist())\n",
    "    # Mostrar las primeras columnas si existen\n",
    "    cols = [c for c in [\"id\", \"titulo\", \"organoConvocante\", \"fechaPublicacion\"] if c in df.columns]\n",
    "else:\n",
    "    print(\"❌ La API no responde con JSON. Revisa los parámetros, la URL o si la API está disponible.\")"
   ]
  },
  {
   "cell_type": "code",
   "execution_count": 48,
   "id": "ff9fda84",
   "metadata": {},
   "outputs": [],
   "source": [
    "df.head(10)  # Mostrar las primeras filas del DataFrame\n",
    "\n",
    "# Guardar en un archivo Excel\n",
    "output_file = \"listado_convocatorias.xlsx\"\n",
    "df.to_excel(output_file, index=False)"
   ]
  },
  {
   "cell_type": "markdown",
   "id": "0628f3c8",
   "metadata": {},
   "source": [
    "### 1.2 Búsqueda de una convocatoria en específico ###\n",
    "\n",
    "Si queremos buscar una convocatoria específica lo haremos a partir del id obtenido en la primera búsqueda:"
   ]
  },
  {
   "cell_type": "code",
   "execution_count": null,
   "id": "ae0e20ff",
   "metadata": {},
   "outputs": [
    {
     "name": "stdout",
     "output_type": "stream",
     "text": [
      "🔎 Consultando convocatoria por parámetros...\n",
      "Status code: 200\n",
      "URL final: https://www.infosubvenciones.es/bdnstrans/api/convocatorias?vpd=GE&numConv=842695\n",
      "Content-Type: application/json\n",
      "============================================================\n",
      "Columnas disponibles: ['id', 'organo', 'sedeElectronica', 'codigoBDNS', 'fechaRecepcion', 'instrumentos', 'tipoConvocatoria', 'presupuestoTotal', 'mrr', 'descripcion', 'descripcionLeng', 'tiposBeneficiarios', 'sectores', 'regiones', 'descripcionFinalidad', 'descripcionBasesReguladoras', 'urlBasesReguladoras', 'sePublicaDiarioOficial', 'abierto', 'fechaInicioSolicitud', 'fechaFinSolicitud', 'textInicio', 'textFin', 'ayudaEstado', 'urlAyudaEstado', 'fondos', 'reglamento', 'objetivos', 'sectoresProductos', 'documentos', 'anuncios', 'advertencia']\n"
     ]
    }
   ],
   "source": [
    "\n",
    "base_url = \"https://www.infosubvenciones.es/bdnstrans/api/convocatorias\"\n",
    "params = {\n",
    "    \"vpd\": \"GE\",         # Cambia por el portal que te interese\n",
    "    \"numConv\": \"842695\"   # Número de convocatoria\n",
    "}\n",
    "headers = {\"Accept\": \"application/json\"}\n",
    "\n",
    "print(\"🔎 Consultando convocatoria por parámetros...\")\n",
    "r = requests.get(base_url, params=params, headers=headers)\n",
    "print(\"Status code:\", r.status_code)\n",
    "print(\"URL final:\", r.url)\n",
    "print(\"Content-Type:\", r.headers.get(\"Content-Type\"))\n",
    "print(\"=\"*60)\n",
    "\n",
    "if \"application/json\" in r.headers.get(\"Content-Type\", \"\"):\n",
    "    data = r.json()\n",
    "    # Si la respuesta es una lista, conviértela directamente\n",
    "    if isinstance(data, list):\n",
    "        convocatoria = pd.DataFrame(data)\n",
    "    # Si es un dict, conviértelo en DataFrame de una fila\n",
    "    elif isinstance(data, dict):\n",
    "        convocatoria = pd.DataFrame([data])\n",
    "    else:\n",
    "        print(\"Respuesta inesperada:\", data)\n",
    "        convocatoria = pd.DataFrame()\n",
    "    print(\"Columnas disponibles:\",convocatoria.columns.tolist())\n",
    "else:\n",
    "    print(\"❌ La API no responde con JSON. Revisa los parámetros, la URL o si la API está disponible.\")\n",
    "    convocatoria = pd.DataFrame()"
   ]
  },
  {
   "cell_type": "code",
   "execution_count": 49,
   "id": "a12fb677",
   "metadata": {},
   "outputs": [],
   "source": [
    "# Ejemplo de respuesta de una convocatoria\n",
    "convocatoria\n",
    "\n",
    "# Guardar la convocatoria en un archivo Excel\n",
    "convocatoria_file = \"convocatoria_842695.xlsx\"\n",
    "convocatoria.to_excel(convocatoria_file, index=False)"
   ]
  },
  {
   "cell_type": "markdown",
   "id": "65473b53",
   "metadata": {},
   "source": [
    "### 1.3 Adquisición de documentos ###\n",
    "\n",
    "Finalmente, para acceder a un documento, se utiliza la llamada a la API específica a documentos a partir del id obtenido en la llamada anterior:"
   ]
  },
  {
   "cell_type": "code",
   "execution_count": null,
   "id": "9d0e2022",
   "metadata": {},
   "outputs": [
    {
     "name": "stdout",
     "output_type": "stream",
     "text": [
      "Descargando TextoConvocatoria.pdf ...\n",
      "✅ Guardado: TextoConvocatoria.pdf\n"
     ]
    }
   ],
   "source": [
    "# Supón que ya tienes el DataFrame 'convocatoria' y quieres descargar todos los documentos\n",
    "docs = convocatoria.iloc[0]['documentos']  # Si solo hay una convocatoria\n",
    "\n",
    "# Carpeta donde guardar los documentos\n",
    "os.makedirs(\"documentos_convocatoria\", exist_ok=True)\n",
    "\n",
    "for doc in docs:\n",
    "    id_doc = doc['id']\n",
    "    nombre = doc.get('nombreFic', f\"documento_{id_doc}.pdf\")\n",
    "    url = f\"https://www.infosubvenciones.es/bdnstrans/api/convocatorias/documentos?idDocumento={id_doc}\"\n",
    "    print(f\"Descargando {nombre} ...\")\n",
    "    resp = requests.get(url)\n",
    "    if resp.status_code == 200:\n",
    "        with open(os.path.join(\"documentos_convocatoria\", nombre), \"wb\") as f:\n",
    "            f.write(resp.content)\n",
    "        print(f\"✅ Guardado: {nombre}\")\n",
    "    else:\n",
    "        print(f\"❌ Error al descargar {nombre} (status {resp.status_code})\")"
   ]
  },
  {
   "cell_type": "markdown",
   "id": "eec39e1f",
   "metadata": {},
   "source": [
    "# 2. Lectura de documentos con NLP #"
   ]
  }
 ],
 "metadata": {
  "kernelspec": {
   "display_name": "tfm",
   "language": "python",
   "name": "python3"
  },
  "language_info": {
   "codemirror_mode": {
    "name": "ipython",
    "version": 3
   },
   "file_extension": ".py",
   "mimetype": "text/x-python",
   "name": "python",
   "nbconvert_exporter": "python",
   "pygments_lexer": "ipython3",
   "version": "3.9.23"
  }
 },
 "nbformat": 4,
 "nbformat_minor": 5
}
